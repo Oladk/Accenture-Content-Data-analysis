{
 "cells": [
  {
   "cell_type": "markdown",
   "metadata": {},
   "source": [
    "# Accenture Content Data Analysis"
   ]
  },
  {
   "cell_type": "markdown",
   "metadata": {},
   "source": [
    "## Import necessary libraries and datasets"
   ]
  },
  {
   "cell_type": "code",
   "execution_count": 142,
   "metadata": {},
   "outputs": [],
   "source": [
    "# Import libraries\n",
    "import pandas as pd\n",
    "import matplotlib.pyplot as plt\n",
    "import seaborn as sns"
   ]
  },
  {
   "cell_type": "code",
   "execution_count": 65,
   "metadata": {},
   "outputs": [],
   "source": [
    "# Import the datasets\n",
    "content_data = pd.read_csv(\"Content.csv\")\n",
    "reaction_data = pd.read_csv(\"Reactions.csv\")\n",
    "reactionType_data = pd.read_csv(\"ReactionTypes.csv\")"
   ]
  },
  {
   "cell_type": "markdown",
   "metadata": {},
   "source": [
    "## Data cleaning"
   ]
  },
  {
   "cell_type": "markdown",
   "metadata": {},
   "source": [
    "### 1- Content dataset"
   ]
  },
  {
   "cell_type": "code",
   "execution_count": 66,
   "metadata": {},
   "outputs": [
    {
     "data": {
      "text/plain": [
       "(1000, 6)"
      ]
     },
     "execution_count": 66,
     "metadata": {},
     "output_type": "execute_result"
    }
   ],
   "source": [
    "# Dataset dimensions\n",
    "content_data.shape"
   ]
  },
  {
   "cell_type": "code",
   "execution_count": 67,
   "metadata": {},
   "outputs": [
    {
     "data": {
      "text/html": [
       "<div>\n",
       "<style scoped>\n",
       "    .dataframe tbody tr th:only-of-type {\n",
       "        vertical-align: middle;\n",
       "    }\n",
       "\n",
       "    .dataframe tbody tr th {\n",
       "        vertical-align: top;\n",
       "    }\n",
       "\n",
       "    .dataframe thead th {\n",
       "        text-align: right;\n",
       "    }\n",
       "</style>\n",
       "<table border=\"1\" class=\"dataframe\">\n",
       "  <thead>\n",
       "    <tr style=\"text-align: right;\">\n",
       "      <th></th>\n",
       "      <th>Unnamed: 0</th>\n",
       "      <th>Content ID</th>\n",
       "      <th>User ID</th>\n",
       "      <th>Type</th>\n",
       "      <th>Category</th>\n",
       "      <th>URL</th>\n",
       "    </tr>\n",
       "  </thead>\n",
       "  <tbody>\n",
       "    <tr>\n",
       "      <th>0</th>\n",
       "      <td>0</td>\n",
       "      <td>97522e57-d9ab-4bd6-97bf-c24d952602d2</td>\n",
       "      <td>8d3cd87d-8a31-4935-9a4f-b319bfe05f31</td>\n",
       "      <td>photo</td>\n",
       "      <td>Studying</td>\n",
       "      <td>https://socialbuzz.cdn.com/content/storage/975...</td>\n",
       "    </tr>\n",
       "    <tr>\n",
       "      <th>1</th>\n",
       "      <td>1</td>\n",
       "      <td>9f737e0a-3cdd-4d29-9d24-753f4e3be810</td>\n",
       "      <td>beb1f34e-7870-46d6-9fc7-2e12eb83ce43</td>\n",
       "      <td>photo</td>\n",
       "      <td>healthy eating</td>\n",
       "      <td>https://socialbuzz.cdn.com/content/storage/9f7...</td>\n",
       "    </tr>\n",
       "    <tr>\n",
       "      <th>2</th>\n",
       "      <td>2</td>\n",
       "      <td>230c4e4d-70c3-461d-b42c-ec09396efb3f</td>\n",
       "      <td>a5c65404-5894-4b87-82f2-d787cbee86b4</td>\n",
       "      <td>photo</td>\n",
       "      <td>healthy eating</td>\n",
       "      <td>https://socialbuzz.cdn.com/content/storage/230...</td>\n",
       "    </tr>\n",
       "    <tr>\n",
       "      <th>3</th>\n",
       "      <td>3</td>\n",
       "      <td>356fff80-da4d-4785-9f43-bc1261031dc6</td>\n",
       "      <td>9fb4ce88-fac1-406c-8544-1a899cee7aaf</td>\n",
       "      <td>photo</td>\n",
       "      <td>technology</td>\n",
       "      <td>https://socialbuzz.cdn.com/content/storage/356...</td>\n",
       "    </tr>\n",
       "    <tr>\n",
       "      <th>4</th>\n",
       "      <td>4</td>\n",
       "      <td>01ab84dd-6364-4236-abbb-3f237db77180</td>\n",
       "      <td>e206e31b-5f85-4964-b6ea-d7ee5324def1</td>\n",
       "      <td>video</td>\n",
       "      <td>food</td>\n",
       "      <td>https://socialbuzz.cdn.com/content/storage/01a...</td>\n",
       "    </tr>\n",
       "    <tr>\n",
       "      <th>5</th>\n",
       "      <td>5</td>\n",
       "      <td>cf1e8c1a-23eb-4426-9f58-002fb1b53e91</td>\n",
       "      <td>4607d7b0-3313-49b8-9f73-5b8227fc5b67</td>\n",
       "      <td>GIF</td>\n",
       "      <td>cooking</td>\n",
       "      <td>NaN</td>\n",
       "    </tr>\n",
       "    <tr>\n",
       "      <th>6</th>\n",
       "      <td>6</td>\n",
       "      <td>3f8590c7-6ab2-4973-805a-90cdec355f05</td>\n",
       "      <td>ae600af5-c1f0-4b1f-adb0-1b4c246373e4</td>\n",
       "      <td>video</td>\n",
       "      <td>dogs</td>\n",
       "      <td>https://socialbuzz.cdn.com/content/storage/3f8...</td>\n",
       "    </tr>\n",
       "    <tr>\n",
       "      <th>7</th>\n",
       "      <td>7</td>\n",
       "      <td>e5490118-90d5-4572-ab1c-1fbc87b8d9ca</td>\n",
       "      <td>583f2bde-886d-4cf3-a5c4-7cb60cd25df3</td>\n",
       "      <td>video</td>\n",
       "      <td>technology</td>\n",
       "      <td>https://socialbuzz.cdn.com/content/storage/e54...</td>\n",
       "    </tr>\n",
       "    <tr>\n",
       "      <th>8</th>\n",
       "      <td>8</td>\n",
       "      <td>0bedca96-fb76-4287-a83c-17330ed39cce</td>\n",
       "      <td>2bd9c167-e06c-47c1-a978-3403d6724606</td>\n",
       "      <td>photo</td>\n",
       "      <td>soccer</td>\n",
       "      <td>https://socialbuzz.cdn.com/content/storage/0be...</td>\n",
       "    </tr>\n",
       "    <tr>\n",
       "      <th>9</th>\n",
       "      <td>9</td>\n",
       "      <td>b18cb63f-4c8e-44ee-a47f-541e95191d11</td>\n",
       "      <td>13f0db8a-152a-496f-a6e8-1ed6a90b8788</td>\n",
       "      <td>photo</td>\n",
       "      <td>public speaking</td>\n",
       "      <td>https://socialbuzz.cdn.com/content/storage/b18...</td>\n",
       "    </tr>\n",
       "  </tbody>\n",
       "</table>\n",
       "</div>"
      ],
      "text/plain": [
       "   Unnamed: 0                            Content ID  \\\n",
       "0           0  97522e57-d9ab-4bd6-97bf-c24d952602d2   \n",
       "1           1  9f737e0a-3cdd-4d29-9d24-753f4e3be810   \n",
       "2           2  230c4e4d-70c3-461d-b42c-ec09396efb3f   \n",
       "3           3  356fff80-da4d-4785-9f43-bc1261031dc6   \n",
       "4           4  01ab84dd-6364-4236-abbb-3f237db77180   \n",
       "5           5  cf1e8c1a-23eb-4426-9f58-002fb1b53e91   \n",
       "6           6  3f8590c7-6ab2-4973-805a-90cdec355f05   \n",
       "7           7  e5490118-90d5-4572-ab1c-1fbc87b8d9ca   \n",
       "8           8  0bedca96-fb76-4287-a83c-17330ed39cce   \n",
       "9           9  b18cb63f-4c8e-44ee-a47f-541e95191d11   \n",
       "\n",
       "                                User ID   Type         Category  \\\n",
       "0  8d3cd87d-8a31-4935-9a4f-b319bfe05f31  photo         Studying   \n",
       "1  beb1f34e-7870-46d6-9fc7-2e12eb83ce43  photo   healthy eating   \n",
       "2  a5c65404-5894-4b87-82f2-d787cbee86b4  photo   healthy eating   \n",
       "3  9fb4ce88-fac1-406c-8544-1a899cee7aaf  photo       technology   \n",
       "4  e206e31b-5f85-4964-b6ea-d7ee5324def1  video             food   \n",
       "5  4607d7b0-3313-49b8-9f73-5b8227fc5b67    GIF          cooking   \n",
       "6  ae600af5-c1f0-4b1f-adb0-1b4c246373e4  video             dogs   \n",
       "7  583f2bde-886d-4cf3-a5c4-7cb60cd25df3  video       technology   \n",
       "8  2bd9c167-e06c-47c1-a978-3403d6724606  photo           soccer   \n",
       "9  13f0db8a-152a-496f-a6e8-1ed6a90b8788  photo  public speaking   \n",
       "\n",
       "                                                 URL  \n",
       "0  https://socialbuzz.cdn.com/content/storage/975...  \n",
       "1  https://socialbuzz.cdn.com/content/storage/9f7...  \n",
       "2  https://socialbuzz.cdn.com/content/storage/230...  \n",
       "3  https://socialbuzz.cdn.com/content/storage/356...  \n",
       "4  https://socialbuzz.cdn.com/content/storage/01a...  \n",
       "5                                                NaN  \n",
       "6  https://socialbuzz.cdn.com/content/storage/3f8...  \n",
       "7  https://socialbuzz.cdn.com/content/storage/e54...  \n",
       "8  https://socialbuzz.cdn.com/content/storage/0be...  \n",
       "9  https://socialbuzz.cdn.com/content/storage/b18...  "
      ]
     },
     "execution_count": 67,
     "metadata": {},
     "output_type": "execute_result"
    }
   ],
   "source": [
    "# Preview the dataset\n",
    "content_data.head(10)"
   ]
  },
  {
   "cell_type": "code",
   "execution_count": 68,
   "metadata": {},
   "outputs": [
    {
     "name": "stdout",
     "output_type": "stream",
     "text": [
      "<class 'pandas.core.frame.DataFrame'>\n",
      "RangeIndex: 1000 entries, 0 to 999\n",
      "Data columns (total 6 columns):\n",
      " #   Column      Non-Null Count  Dtype \n",
      "---  ------      --------------  ----- \n",
      " 0   Unnamed: 0  1000 non-null   int64 \n",
      " 1   Content ID  1000 non-null   object\n",
      " 2   User ID     1000 non-null   object\n",
      " 3   Type        1000 non-null   object\n",
      " 4   Category    1000 non-null   object\n",
      " 5   URL         801 non-null    object\n",
      "dtypes: int64(1), object(5)\n",
      "memory usage: 47.0+ KB\n"
     ]
    }
   ],
   "source": [
    "# More details about the dataset\n",
    "content_data.info()"
   ]
  },
  {
   "cell_type": "code",
   "execution_count": 69,
   "metadata": {},
   "outputs": [
    {
     "data": {
      "text/plain": [
       "Unnamed: 0      0\n",
       "Content ID      0\n",
       "User ID         0\n",
       "Type            0\n",
       "Category        0\n",
       "URL           199\n",
       "dtype: int64"
      ]
     },
     "execution_count": 69,
     "metadata": {},
     "output_type": "execute_result"
    }
   ],
   "source": [
    "# Identify missing values\n",
    "content_data.isna().sum()"
   ]
  },
  {
   "cell_type": "markdown",
   "metadata": {},
   "source": [
    "There are only missing values in the \"URL\" column. Since that variable is not relevant for our analysis, we'll drop it along with the \"Unnamed\" variable "
   ]
  },
  {
   "cell_type": "code",
   "execution_count": 70,
   "metadata": {},
   "outputs": [],
   "source": [
    "# Drop non-relevant columns\n",
    "content_data = content_data.drop(columns= [\"Unnamed: 0\",\"URL\", \"User ID\"])"
   ]
  },
  {
   "cell_type": "code",
   "execution_count": 71,
   "metadata": {},
   "outputs": [
    {
     "data": {
      "text/plain": [
       "0"
      ]
     },
     "execution_count": 71,
     "metadata": {},
     "output_type": "execute_result"
    }
   ],
   "source": [
    "# Identify duplicates\n",
    "content_data.duplicated().sum()"
   ]
  },
  {
   "cell_type": "markdown",
   "metadata": {},
   "source": [
    "There is no duplicate rows in the dataset"
   ]
  },
  {
   "cell_type": "code",
   "execution_count": 72,
   "metadata": {},
   "outputs": [],
   "source": [
    "# Rename columns\n",
    "content_data.rename(columns={'Type': 'Content Type'}, inplace= True)"
   ]
  },
  {
   "cell_type": "code",
   "execution_count": 73,
   "metadata": {},
   "outputs": [
    {
     "data": {
      "text/plain": [
       "array(['photo', 'video', 'GIF', 'audio'], dtype=object)"
      ]
     },
     "execution_count": 73,
     "metadata": {},
     "output_type": "execute_result"
    }
   ],
   "source": [
    "# Inspect the unique values of \"Content Type\"\n",
    "content_data['Content Type'].unique()"
   ]
  },
  {
   "cell_type": "code",
   "execution_count": 74,
   "metadata": {},
   "outputs": [],
   "source": [
    "# Standardize the typos\n",
    "content_data['Content Type'] = content_data['Content Type'].str.title()"
   ]
  },
  {
   "cell_type": "code",
   "execution_count": 75,
   "metadata": {},
   "outputs": [
    {
     "data": {
      "text/plain": [
       "array(['Studying', 'healthy eating', 'technology', 'food', 'cooking',\n",
       "       'dogs', 'soccer', 'public speaking', 'science', 'tennis', 'travel',\n",
       "       'fitness', 'education', 'studying', 'veganism', 'Animals',\n",
       "       'animals', 'culture', '\"culture\"', 'Fitness', '\"studying\"',\n",
       "       'Veganism', '\"animals\"', 'Travel', '\"soccer\"', 'Education',\n",
       "       '\"dogs\"', 'Technology', 'Soccer', '\"tennis\"', 'Culture', '\"food\"',\n",
       "       'Food', '\"technology\"', 'Healthy Eating', '\"cooking\"', 'Science',\n",
       "       '\"public speaking\"', '\"veganism\"', 'Public Speaking', '\"science\"'],\n",
       "      dtype=object)"
      ]
     },
     "execution_count": 75,
     "metadata": {},
     "output_type": "execute_result"
    }
   ],
   "source": [
    "# Inspect the unique values of \"Category\"\n",
    "content_data['Category'].unique()"
   ]
  },
  {
   "cell_type": "markdown",
   "metadata": {},
   "source": [
    "The unique values are not uniforms: 'culture' and '\"animals\"'"
   ]
  },
  {
   "cell_type": "code",
   "execution_count": 76,
   "metadata": {},
   "outputs": [],
   "source": [
    "# Standardize the typos\n",
    "content_data['Category'] = content_data['Category'].replace('\"','', regex=True)\n",
    "content_data['Category'] = content_data['Category'].str.title()"
   ]
  },
  {
   "cell_type": "code",
   "execution_count": 77,
   "metadata": {},
   "outputs": [
    {
     "data": {
      "text/plain": [
       "array(['Studying', 'Healthy Eating', 'Technology', 'Food', 'Cooking',\n",
       "       'Dogs', 'Soccer', 'Public Speaking', 'Science', 'Tennis', 'Travel',\n",
       "       'Fitness', 'Education', 'Veganism', 'Animals', 'Culture'],\n",
       "      dtype=object)"
      ]
     },
     "execution_count": 77,
     "metadata": {},
     "output_type": "execute_result"
    }
   ],
   "source": [
    "# Let's check it\n",
    "content_data['Category'].unique()"
   ]
  },
  {
   "cell_type": "markdown",
   "metadata": {},
   "source": [
    "Job done here"
   ]
  },
  {
   "cell_type": "markdown",
   "metadata": {},
   "source": [
    "### 2- Reaction dataset"
   ]
  },
  {
   "cell_type": "code",
   "execution_count": 78,
   "metadata": {},
   "outputs": [
    {
     "data": {
      "text/plain": [
       "(25553, 5)"
      ]
     },
     "execution_count": 78,
     "metadata": {},
     "output_type": "execute_result"
    }
   ],
   "source": [
    "# Dataset dimensions\n",
    "reaction_data.shape"
   ]
  },
  {
   "cell_type": "code",
   "execution_count": 79,
   "metadata": {},
   "outputs": [
    {
     "data": {
      "text/html": [
       "<div>\n",
       "<style scoped>\n",
       "    .dataframe tbody tr th:only-of-type {\n",
       "        vertical-align: middle;\n",
       "    }\n",
       "\n",
       "    .dataframe tbody tr th {\n",
       "        vertical-align: top;\n",
       "    }\n",
       "\n",
       "    .dataframe thead th {\n",
       "        text-align: right;\n",
       "    }\n",
       "</style>\n",
       "<table border=\"1\" class=\"dataframe\">\n",
       "  <thead>\n",
       "    <tr style=\"text-align: right;\">\n",
       "      <th></th>\n",
       "      <th>Unnamed: 0</th>\n",
       "      <th>Content ID</th>\n",
       "      <th>User ID</th>\n",
       "      <th>Type</th>\n",
       "      <th>Datetime</th>\n",
       "    </tr>\n",
       "  </thead>\n",
       "  <tbody>\n",
       "    <tr>\n",
       "      <th>0</th>\n",
       "      <td>0</td>\n",
       "      <td>97522e57-d9ab-4bd6-97bf-c24d952602d2</td>\n",
       "      <td>NaN</td>\n",
       "      <td>NaN</td>\n",
       "      <td>2021-04-22 15:17:15</td>\n",
       "    </tr>\n",
       "    <tr>\n",
       "      <th>1</th>\n",
       "      <td>1</td>\n",
       "      <td>97522e57-d9ab-4bd6-97bf-c24d952602d2</td>\n",
       "      <td>5d454588-283d-459d-915d-c48a2cb4c27f</td>\n",
       "      <td>disgust</td>\n",
       "      <td>2020-11-07 09:43:50</td>\n",
       "    </tr>\n",
       "    <tr>\n",
       "      <th>2</th>\n",
       "      <td>2</td>\n",
       "      <td>97522e57-d9ab-4bd6-97bf-c24d952602d2</td>\n",
       "      <td>92b87fa5-f271-43e0-af66-84fac21052e6</td>\n",
       "      <td>dislike</td>\n",
       "      <td>2021-06-17 12:22:51</td>\n",
       "    </tr>\n",
       "    <tr>\n",
       "      <th>3</th>\n",
       "      <td>3</td>\n",
       "      <td>97522e57-d9ab-4bd6-97bf-c24d952602d2</td>\n",
       "      <td>163daa38-8b77-48c9-9af6-37a6c1447ac2</td>\n",
       "      <td>scared</td>\n",
       "      <td>2021-04-18 05:13:58</td>\n",
       "    </tr>\n",
       "    <tr>\n",
       "      <th>4</th>\n",
       "      <td>4</td>\n",
       "      <td>97522e57-d9ab-4bd6-97bf-c24d952602d2</td>\n",
       "      <td>34e8add9-0206-47fd-a501-037b994650a2</td>\n",
       "      <td>disgust</td>\n",
       "      <td>2021-01-06 19:13:01</td>\n",
       "    </tr>\n",
       "  </tbody>\n",
       "</table>\n",
       "</div>"
      ],
      "text/plain": [
       "   Unnamed: 0                            Content ID  \\\n",
       "0           0  97522e57-d9ab-4bd6-97bf-c24d952602d2   \n",
       "1           1  97522e57-d9ab-4bd6-97bf-c24d952602d2   \n",
       "2           2  97522e57-d9ab-4bd6-97bf-c24d952602d2   \n",
       "3           3  97522e57-d9ab-4bd6-97bf-c24d952602d2   \n",
       "4           4  97522e57-d9ab-4bd6-97bf-c24d952602d2   \n",
       "\n",
       "                                User ID     Type             Datetime  \n",
       "0                                   NaN      NaN  2021-04-22 15:17:15  \n",
       "1  5d454588-283d-459d-915d-c48a2cb4c27f  disgust  2020-11-07 09:43:50  \n",
       "2  92b87fa5-f271-43e0-af66-84fac21052e6  dislike  2021-06-17 12:22:51  \n",
       "3  163daa38-8b77-48c9-9af6-37a6c1447ac2   scared  2021-04-18 05:13:58  \n",
       "4  34e8add9-0206-47fd-a501-037b994650a2  disgust  2021-01-06 19:13:01  "
      ]
     },
     "execution_count": 79,
     "metadata": {},
     "output_type": "execute_result"
    }
   ],
   "source": [
    "# Preview the dataset\n",
    "reaction_data.head()"
   ]
  },
  {
   "cell_type": "code",
   "execution_count": 80,
   "metadata": {},
   "outputs": [
    {
     "name": "stdout",
     "output_type": "stream",
     "text": [
      "<class 'pandas.core.frame.DataFrame'>\n",
      "RangeIndex: 25553 entries, 0 to 25552\n",
      "Data columns (total 5 columns):\n",
      " #   Column      Non-Null Count  Dtype \n",
      "---  ------      --------------  ----- \n",
      " 0   Unnamed: 0  25553 non-null  int64 \n",
      " 1   Content ID  25553 non-null  object\n",
      " 2   User ID     22534 non-null  object\n",
      " 3   Type        24573 non-null  object\n",
      " 4   Datetime    25553 non-null  object\n",
      "dtypes: int64(1), object(4)\n",
      "memory usage: 998.3+ KB\n"
     ]
    }
   ],
   "source": [
    "# More details about the dataset\n",
    "reaction_data.info()"
   ]
  },
  {
   "cell_type": "code",
   "execution_count": 81,
   "metadata": {},
   "outputs": [
    {
     "data": {
      "text/plain": [
       "Unnamed: 0       0\n",
       "Content ID       0\n",
       "User ID       3019\n",
       "Type           980\n",
       "Datetime         0\n",
       "dtype: int64"
      ]
     },
     "execution_count": 81,
     "metadata": {},
     "output_type": "execute_result"
    }
   ],
   "source": [
    "# Identify missing values\n",
    "reaction_data.isna().sum()"
   ]
  },
  {
   "cell_type": "code",
   "execution_count": 82,
   "metadata": {},
   "outputs": [],
   "source": [
    "# Drop missing values\n",
    "reaction_data = reaction_data.dropna()"
   ]
  },
  {
   "cell_type": "code",
   "execution_count": 83,
   "metadata": {},
   "outputs": [],
   "source": [
    "# Drop irrelevant columns\n",
    "reaction_data = reaction_data.drop(columns= ['Unnamed: 0', 'User ID'])"
   ]
  },
  {
   "cell_type": "code",
   "execution_count": 84,
   "metadata": {},
   "outputs": [],
   "source": [
    "# Convert Dates type\n",
    "reaction_data['Datetime'] = pd.to_datetime(reaction_data['Datetime'])"
   ]
  },
  {
   "cell_type": "code",
   "execution_count": 85,
   "metadata": {},
   "outputs": [],
   "source": [
    "# Rename column\n",
    "reaction_data.rename(columns={'Type': 'Reaction Type'}, inplace=True)"
   ]
  },
  {
   "cell_type": "code",
   "execution_count": 86,
   "metadata": {},
   "outputs": [
    {
     "data": {
      "text/plain": [
       "array(['disgust', 'dislike', 'scared', 'interested', 'peeking', 'cherish',\n",
       "       'hate', 'indifferent', 'super love', 'worried', 'like', 'heart',\n",
       "       'want', 'intrigued', 'love', 'adore'], dtype=object)"
      ]
     },
     "execution_count": 86,
     "metadata": {},
     "output_type": "execute_result"
    }
   ],
   "source": [
    "# Inspect unique values\n",
    "reaction_data['Reaction Type'].unique()"
   ]
  },
  {
   "cell_type": "code",
   "execution_count": 87,
   "metadata": {},
   "outputs": [],
   "source": [
    "# Standardize unique values\n",
    "reaction_data['Reaction Type'] = reaction_data['Reaction Type'].str.title()"
   ]
  },
  {
   "cell_type": "code",
   "execution_count": 88,
   "metadata": {},
   "outputs": [
    {
     "name": "stdout",
     "output_type": "stream",
     "text": [
      "Number of missing values: Content ID       0\n",
      "Reaction Type    0\n",
      "Datetime         0\n",
      "dtype: int64\n"
     ]
    }
   ],
   "source": [
    "# Data integrity tests\n",
    "print(\"Number of missing values:\", reaction_data.isna().sum())"
   ]
  },
  {
   "cell_type": "code",
   "execution_count": 89,
   "metadata": {},
   "outputs": [
    {
     "name": "stdout",
     "output_type": "stream",
     "text": [
      "Number of duplicates: 0\n"
     ]
    }
   ],
   "source": [
    "print(\"Number of duplicates:\", reaction_data.duplicated().sum())"
   ]
  },
  {
   "cell_type": "code",
   "execution_count": 90,
   "metadata": {},
   "outputs": [
    {
     "name": "stdout",
     "output_type": "stream",
     "text": [
      "<class 'pandas.core.frame.DataFrame'>\n",
      "Int64Index: 22534 entries, 1 to 25552\n",
      "Data columns (total 3 columns):\n",
      " #   Column         Non-Null Count  Dtype         \n",
      "---  ------         --------------  -----         \n",
      " 0   Content ID     22534 non-null  object        \n",
      " 1   Reaction Type  22534 non-null  object        \n",
      " 2   Datetime       22534 non-null  datetime64[ns]\n",
      "dtypes: datetime64[ns](1), object(2)\n",
      "memory usage: 704.2+ KB\n"
     ]
    }
   ],
   "source": [
    "reaction_data.info()"
   ]
  },
  {
   "cell_type": "markdown",
   "metadata": {},
   "source": [
    "### 3- ReactionType dataset"
   ]
  },
  {
   "cell_type": "code",
   "execution_count": 91,
   "metadata": {},
   "outputs": [
    {
     "data": {
      "text/plain": [
       "(16, 4)"
      ]
     },
     "execution_count": 91,
     "metadata": {},
     "output_type": "execute_result"
    }
   ],
   "source": [
    "# Dataset dimensions\n",
    "reactionType_data.shape"
   ]
  },
  {
   "cell_type": "code",
   "execution_count": 92,
   "metadata": {},
   "outputs": [
    {
     "data": {
      "text/html": [
       "<div>\n",
       "<style scoped>\n",
       "    .dataframe tbody tr th:only-of-type {\n",
       "        vertical-align: middle;\n",
       "    }\n",
       "\n",
       "    .dataframe tbody tr th {\n",
       "        vertical-align: top;\n",
       "    }\n",
       "\n",
       "    .dataframe thead th {\n",
       "        text-align: right;\n",
       "    }\n",
       "</style>\n",
       "<table border=\"1\" class=\"dataframe\">\n",
       "  <thead>\n",
       "    <tr style=\"text-align: right;\">\n",
       "      <th></th>\n",
       "      <th>Unnamed: 0</th>\n",
       "      <th>Type</th>\n",
       "      <th>Sentiment</th>\n",
       "      <th>Score</th>\n",
       "    </tr>\n",
       "  </thead>\n",
       "  <tbody>\n",
       "    <tr>\n",
       "      <th>0</th>\n",
       "      <td>0</td>\n",
       "      <td>heart</td>\n",
       "      <td>positive</td>\n",
       "      <td>60</td>\n",
       "    </tr>\n",
       "    <tr>\n",
       "      <th>1</th>\n",
       "      <td>1</td>\n",
       "      <td>want</td>\n",
       "      <td>positive</td>\n",
       "      <td>70</td>\n",
       "    </tr>\n",
       "    <tr>\n",
       "      <th>2</th>\n",
       "      <td>2</td>\n",
       "      <td>disgust</td>\n",
       "      <td>negative</td>\n",
       "      <td>0</td>\n",
       "    </tr>\n",
       "    <tr>\n",
       "      <th>3</th>\n",
       "      <td>3</td>\n",
       "      <td>hate</td>\n",
       "      <td>negative</td>\n",
       "      <td>5</td>\n",
       "    </tr>\n",
       "    <tr>\n",
       "      <th>4</th>\n",
       "      <td>4</td>\n",
       "      <td>interested</td>\n",
       "      <td>positive</td>\n",
       "      <td>30</td>\n",
       "    </tr>\n",
       "  </tbody>\n",
       "</table>\n",
       "</div>"
      ],
      "text/plain": [
       "   Unnamed: 0        Type Sentiment  Score\n",
       "0           0       heart  positive     60\n",
       "1           1        want  positive     70\n",
       "2           2     disgust  negative      0\n",
       "3           3        hate  negative      5\n",
       "4           4  interested  positive     30"
      ]
     },
     "execution_count": 92,
     "metadata": {},
     "output_type": "execute_result"
    }
   ],
   "source": [
    "# Preview dataset\n",
    "reactionType_data.head()"
   ]
  },
  {
   "cell_type": "code",
   "execution_count": 93,
   "metadata": {},
   "outputs": [
    {
     "name": "stdout",
     "output_type": "stream",
     "text": [
      "<class 'pandas.core.frame.DataFrame'>\n",
      "RangeIndex: 16 entries, 0 to 15\n",
      "Data columns (total 4 columns):\n",
      " #   Column      Non-Null Count  Dtype \n",
      "---  ------      --------------  ----- \n",
      " 0   Unnamed: 0  16 non-null     int64 \n",
      " 1   Type        16 non-null     object\n",
      " 2   Sentiment   16 non-null     object\n",
      " 3   Score       16 non-null     int64 \n",
      "dtypes: int64(2), object(2)\n",
      "memory usage: 640.0+ bytes\n"
     ]
    }
   ],
   "source": [
    "# More details\n",
    "reactionType_data.info()"
   ]
  },
  {
   "cell_type": "code",
   "execution_count": 94,
   "metadata": {},
   "outputs": [],
   "source": [
    "# Drop irrelevant column\n",
    "reactionType_data = reactionType_data.drop(columns= \"Unnamed: 0\")"
   ]
  },
  {
   "cell_type": "code",
   "execution_count": 95,
   "metadata": {},
   "outputs": [],
   "source": [
    "# Rename column\n",
    "reactionType_data.rename(columns={'Type': 'Reaction Type'}, inplace=True)"
   ]
  },
  {
   "cell_type": "code",
   "execution_count": 96,
   "metadata": {},
   "outputs": [
    {
     "data": {
      "text/plain": [
       "array(['heart', 'want', 'disgust', 'hate', 'interested', 'indifferent',\n",
       "       'love', 'super love', 'cherish', 'adore', 'like', 'dislike',\n",
       "       'intrigued', 'peeking', 'scared', 'worried'], dtype=object)"
      ]
     },
     "execution_count": 96,
     "metadata": {},
     "output_type": "execute_result"
    }
   ],
   "source": [
    "# Inspect unique values\n",
    "reactionType_data['Reaction Type'].unique()"
   ]
  },
  {
   "cell_type": "code",
   "execution_count": 97,
   "metadata": {},
   "outputs": [
    {
     "data": {
      "text/plain": [
       "array(['positive', 'negative', 'neutral'], dtype=object)"
      ]
     },
     "execution_count": 97,
     "metadata": {},
     "output_type": "execute_result"
    }
   ],
   "source": [
    "reactionType_data['Sentiment'].unique()"
   ]
  },
  {
   "cell_type": "code",
   "execution_count": 98,
   "metadata": {},
   "outputs": [],
   "source": [
    "# Standardize typos\n",
    "reactionType_data['Reaction Type'] = reactionType_data['Reaction Type'].str.title()\n",
    "reactionType_data['Sentiment'] = reactionType_data['Sentiment'].str.title()"
   ]
  },
  {
   "cell_type": "code",
   "execution_count": 99,
   "metadata": {},
   "outputs": [
    {
     "name": "stdout",
     "output_type": "stream",
     "text": [
      "Number of missing values: Reaction Type    0\n",
      "Sentiment        0\n",
      "Score            0\n",
      "dtype: int64\n"
     ]
    }
   ],
   "source": [
    "# Data integrity tests\n",
    "print(\"Number of missing values:\", reactionType_data.isna().sum())"
   ]
  },
  {
   "cell_type": "code",
   "execution_count": 100,
   "metadata": {},
   "outputs": [
    {
     "name": "stdout",
     "output_type": "stream",
     "text": [
      "Number of duplicates: 0\n"
     ]
    }
   ],
   "source": [
    "print(\"Number of duplicates:\", reactionType_data.duplicated().sum())"
   ]
  },
  {
   "cell_type": "code",
   "execution_count": 101,
   "metadata": {},
   "outputs": [
    {
     "name": "stdout",
     "output_type": "stream",
     "text": [
      "<class 'pandas.core.frame.DataFrame'>\n",
      "RangeIndex: 16 entries, 0 to 15\n",
      "Data columns (total 3 columns):\n",
      " #   Column         Non-Null Count  Dtype \n",
      "---  ------         --------------  ----- \n",
      " 0   Reaction Type  16 non-null     object\n",
      " 1   Sentiment      16 non-null     object\n",
      " 2   Score          16 non-null     int64 \n",
      "dtypes: int64(1), object(2)\n",
      "memory usage: 512.0+ bytes\n"
     ]
    }
   ],
   "source": [
    "reactionType_data.info()"
   ]
  },
  {
   "cell_type": "markdown",
   "metadata": {},
   "source": [
    "Data cleaned"
   ]
  },
  {
   "cell_type": "markdown",
   "metadata": {},
   "source": [
    "### Merge the datasets"
   ]
  },
  {
   "cell_type": "code",
   "execution_count": 102,
   "metadata": {},
   "outputs": [
    {
     "name": "stdout",
     "output_type": "stream",
     "text": [
      "<class 'pandas.core.frame.DataFrame'>\n",
      "Int64Index: 22534 entries, 0 to 22533\n",
      "Data columns (total 7 columns):\n",
      " #   Column         Non-Null Count  Dtype         \n",
      "---  ------         --------------  -----         \n",
      " 0   Content ID     22534 non-null  object        \n",
      " 1   Reaction Type  22534 non-null  object        \n",
      " 2   Datetime       22534 non-null  datetime64[ns]\n",
      " 3   Sentiment      22534 non-null  object        \n",
      " 4   Score          22534 non-null  int64         \n",
      " 5   Content Type   22534 non-null  object        \n",
      " 6   Category       22534 non-null  object        \n",
      "dtypes: datetime64[ns](1), int64(1), object(5)\n",
      "memory usage: 1.4+ MB\n"
     ]
    }
   ],
   "source": [
    "# Merge Reactions with Reaction Types to get 'Sentiment' and 'Score'\n",
    "reaction_data = pd.merge(reaction_data, reactionType_data, on='Reaction Type', how='left')\n",
    "\n",
    "# Merge Reactions with Content to get 'Content Type' and 'Category'\n",
    "reaction_data = pd.merge(reaction_data, content_data, on='Content ID', how='left')\n",
    "\n",
    "# Display the updated DataFrame\n",
    "reaction_data.info()"
   ]
  },
  {
   "cell_type": "code",
   "execution_count": 103,
   "metadata": {},
   "outputs": [
    {
     "data": {
      "text/html": [
       "<div>\n",
       "<style scoped>\n",
       "    .dataframe tbody tr th:only-of-type {\n",
       "        vertical-align: middle;\n",
       "    }\n",
       "\n",
       "    .dataframe tbody tr th {\n",
       "        vertical-align: top;\n",
       "    }\n",
       "\n",
       "    .dataframe thead th {\n",
       "        text-align: right;\n",
       "    }\n",
       "</style>\n",
       "<table border=\"1\" class=\"dataframe\">\n",
       "  <thead>\n",
       "    <tr style=\"text-align: right;\">\n",
       "      <th></th>\n",
       "      <th>Content ID</th>\n",
       "      <th>Reaction Type</th>\n",
       "      <th>Datetime</th>\n",
       "      <th>Sentiment</th>\n",
       "      <th>Score</th>\n",
       "      <th>Content Type</th>\n",
       "      <th>Category</th>\n",
       "    </tr>\n",
       "  </thead>\n",
       "  <tbody>\n",
       "    <tr>\n",
       "      <th>0</th>\n",
       "      <td>97522e57-d9ab-4bd6-97bf-c24d952602d2</td>\n",
       "      <td>Disgust</td>\n",
       "      <td>2020-11-07 09:43:50</td>\n",
       "      <td>Negative</td>\n",
       "      <td>0</td>\n",
       "      <td>Photo</td>\n",
       "      <td>Studying</td>\n",
       "    </tr>\n",
       "    <tr>\n",
       "      <th>1</th>\n",
       "      <td>97522e57-d9ab-4bd6-97bf-c24d952602d2</td>\n",
       "      <td>Dislike</td>\n",
       "      <td>2021-06-17 12:22:51</td>\n",
       "      <td>Negative</td>\n",
       "      <td>10</td>\n",
       "      <td>Photo</td>\n",
       "      <td>Studying</td>\n",
       "    </tr>\n",
       "    <tr>\n",
       "      <th>2</th>\n",
       "      <td>97522e57-d9ab-4bd6-97bf-c24d952602d2</td>\n",
       "      <td>Scared</td>\n",
       "      <td>2021-04-18 05:13:58</td>\n",
       "      <td>Negative</td>\n",
       "      <td>15</td>\n",
       "      <td>Photo</td>\n",
       "      <td>Studying</td>\n",
       "    </tr>\n",
       "    <tr>\n",
       "      <th>3</th>\n",
       "      <td>97522e57-d9ab-4bd6-97bf-c24d952602d2</td>\n",
       "      <td>Disgust</td>\n",
       "      <td>2021-01-06 19:13:01</td>\n",
       "      <td>Negative</td>\n",
       "      <td>0</td>\n",
       "      <td>Photo</td>\n",
       "      <td>Studying</td>\n",
       "    </tr>\n",
       "    <tr>\n",
       "      <th>4</th>\n",
       "      <td>97522e57-d9ab-4bd6-97bf-c24d952602d2</td>\n",
       "      <td>Interested</td>\n",
       "      <td>2020-08-23 12:25:58</td>\n",
       "      <td>Positive</td>\n",
       "      <td>30</td>\n",
       "      <td>Photo</td>\n",
       "      <td>Studying</td>\n",
       "    </tr>\n",
       "  </tbody>\n",
       "</table>\n",
       "</div>"
      ],
      "text/plain": [
       "                             Content ID Reaction Type            Datetime  \\\n",
       "0  97522e57-d9ab-4bd6-97bf-c24d952602d2       Disgust 2020-11-07 09:43:50   \n",
       "1  97522e57-d9ab-4bd6-97bf-c24d952602d2       Dislike 2021-06-17 12:22:51   \n",
       "2  97522e57-d9ab-4bd6-97bf-c24d952602d2        Scared 2021-04-18 05:13:58   \n",
       "3  97522e57-d9ab-4bd6-97bf-c24d952602d2       Disgust 2021-01-06 19:13:01   \n",
       "4  97522e57-d9ab-4bd6-97bf-c24d952602d2    Interested 2020-08-23 12:25:58   \n",
       "\n",
       "  Sentiment  Score Content Type  Category  \n",
       "0  Negative      0        Photo  Studying  \n",
       "1  Negative     10        Photo  Studying  \n",
       "2  Negative     15        Photo  Studying  \n",
       "3  Negative      0        Photo  Studying  \n",
       "4  Positive     30        Photo  Studying  "
      ]
     },
     "execution_count": 103,
     "metadata": {},
     "output_type": "execute_result"
    }
   ],
   "source": [
    "# Display the updated DataFrame\n",
    "reaction_data.head()"
   ]
  },
  {
   "cell_type": "code",
   "execution_count": 104,
   "metadata": {},
   "outputs": [],
   "source": [
    "# Save clean data\n",
    "reaction_data.to_csv('./clean_data.csv')"
   ]
  },
  {
   "cell_type": "markdown",
   "metadata": {},
   "source": [
    "## Engagement Analysis"
   ]
  },
  {
   "cell_type": "markdown",
   "metadata": {},
   "source": [
    "### Which content types drive the highest engagement (measured by the number of reactions)?"
   ]
  },
  {
   "cell_type": "code",
   "execution_count": 105,
   "metadata": {},
   "outputs": [
    {
     "data": {
      "text/plain": [
       "Photo    6043\n",
       "Video    5728\n",
       "Gif      5578\n",
       "Audio    5185\n",
       "Name: Content Type, dtype: int64"
      ]
     },
     "execution_count": 105,
     "metadata": {},
     "output_type": "execute_result"
    }
   ],
   "source": [
    "reaction_data[\"Content Type\"].value_counts()"
   ]
  },
  {
   "cell_type": "markdown",
   "metadata": {},
   "source": [
    "### Are there particular categories that users react to more frequently or positively?"
   ]
  },
  {
   "cell_type": "code",
   "execution_count": 106,
   "metadata": {},
   "outputs": [],
   "source": [
    "# Count total reactions per category\n",
    "reaction_counts = reaction_data.groupby('Category').size().reset_index(name='Total Reactions')\n"
   ]
  },
  {
   "cell_type": "code",
   "execution_count": 107,
   "metadata": {},
   "outputs": [
    {
     "name": "stdout",
     "output_type": "stream",
     "text": [
      "           Category  Total Reactions  Positive Reactions  Positive Rate\n",
      "0           Animals             1738                 962      55.350978\n",
      "1           Cooking             1525                 851      55.803279\n",
      "2           Culture             1538                 855      55.591678\n",
      "3              Dogs             1227                 689      56.153219\n",
      "4         Education             1311                 751      57.284516\n",
      "5           Fitness             1284                 721      56.152648\n",
      "6              Food             1556                 872      56.041131\n",
      "7    Healthy Eating             1572                 896      56.997455\n",
      "8   Public Speaking             1116                 661      59.229391\n",
      "9           Science             1646                 934      56.743621\n",
      "10           Soccer             1339                 752      56.161314\n",
      "11         Studying             1251                 697      55.715428\n",
      "12       Technology             1557                 896      57.546564\n",
      "13           Tennis             1218                 656      53.858785\n",
      "14           Travel             1510                 842      55.761589\n",
      "15         Veganism             1146                 639      55.759162\n"
     ]
    }
   ],
   "source": [
    "# Count positive reactions per category\n",
    "positive_reactions = reaction_data[reaction_data['Sentiment'] == 'Positive'].groupby('Category').size().reset_index(name='Positive Reactions')\n",
    "\n",
    "# Merge with total reactions\n",
    "reaction_analysis = pd.merge(reaction_counts, positive_reactions, on='Category', how='left')\n",
    "reaction_analysis['Positive Rate'] = (reaction_analysis['Positive Reactions'] / reaction_analysis['Total Reactions']) * 100\n",
    "print(reaction_analysis)\n"
   ]
  },
  {
   "cell_type": "code",
   "execution_count": 108,
   "metadata": {},
   "outputs": [
    {
     "name": "stdout",
     "output_type": "stream",
     "text": [
      "Categories with the most reactions:\n",
      "           Category  Total Reactions  Positive Reactions  Positive Rate\n",
      "0          Animals             1738                 962      55.350978\n",
      "9          Science             1646                 934      56.743621\n",
      "7   Healthy Eating             1572                 896      56.997455\n",
      "12      Technology             1557                 896      57.546564\n",
      "6             Food             1556                 872      56.041131\n",
      "Categories with the highest positivity rate:\n",
      "            Category  Total Reactions  Positive Reactions  Positive Rate\n",
      "8   Public Speaking             1116                 661      59.229391\n",
      "12       Technology             1557                 896      57.546564\n",
      "4         Education             1311                 751      57.284516\n",
      "7    Healthy Eating             1572                 896      56.997455\n",
      "9           Science             1646                 934      56.743621\n"
     ]
    }
   ],
   "source": [
    "# Sort by Total Reactions\n",
    "top_categories_by_frequency = reaction_analysis.sort_values(by='Total Reactions', ascending=False)\n",
    "\n",
    "# Sort by Positive Rate\n",
    "top_categories_by_positivity = reaction_analysis.sort_values(by='Positive Rate', ascending=False)\n",
    "\n",
    "print(\"Categories with the most reactions:\\n\", top_categories_by_frequency.head())\n",
    "print(\"Categories with the highest positivity rate:\\n\", top_categories_by_positivity.head())\n"
   ]
  },
  {
   "cell_type": "code",
   "execution_count": 109,
   "metadata": {},
   "outputs": [
    {
     "data": {
      "image/png": "[encoded data removed]",
      "text/plain": [
       "<Figure size 720x432 with 1 Axes>"
      ]
     },
     "metadata": {
      "needs_background": "light"
     },
     "output_type": "display_data"
    },
    {
     "data": {
      "image/png": "[encoded data removed]",
      "text/plain": [
       "<Figure size 720x432 with 1 Axes>"
      ]
     },
     "metadata": {
      "needs_background": "light"
     },
     "output_type": "display_data"
    }
   ],
   "source": [
    "# Bar plot for total reactions\n",
    "plt.figure(figsize=(10, 6))\n",
    "plt.bar(reaction_analysis['Category'], reaction_analysis['Total Reactions'], color='skyblue')\n",
    "plt.title('Total Reactions by Category')\n",
    "plt.xlabel('Category')\n",
    "plt.ylabel('Total Reactions')\n",
    "plt.xticks(rotation=45)\n",
    "plt.show()\n",
    "\n",
    "# Bar plot for positive rate\n",
    "plt.figure(figsize=(10, 6))\n",
    "plt.bar(reaction_analysis['Category'], reaction_analysis['Positive Rate'], color='lightgreen')\n",
    "plt.title('Positive Reaction Rate by Category')\n",
    "plt.xlabel('Category')\n",
    "plt.ylabel('Positive Rate (%)')\n",
    "plt.xticks(rotation=45)\n",
    "plt.show()"
   ]
  },
  {
   "cell_type": "markdown",
   "metadata": {},
   "source": [
    "- The category 'Animals' has the highest number of reactions, followed by 'Science' and 'Healthy Eating'.\n",
    "\n",
    "- The category 'Public Speaking' has the highest positivity rate at 59%, suggesting users strongly associate positive sentiment with this content.\""
   ]
  },
  {
   "cell_type": "markdown",
   "metadata": {},
   "source": [
    "### What is the distribution of reaction types across different categories?"
   ]
  },
  {
   "cell_type": "code",
   "execution_count": 110,
   "metadata": {},
   "outputs": [
    {
     "name": "stdout",
     "output_type": "stream",
     "text": [
      "Reaction Type    Adore  Cherish  Disgust  Dislike  Hate  Heart  Indifferent  \\\n",
      "Category                                                                      \n",
      "Animals            104      116      108      105   118    114           91   \n",
      "Cooking             99       80      100      100   100    101           77   \n",
      "Culture             86      102       92      101    90     83          105   \n",
      "Dogs                76       64       77       74    83     92           83   \n",
      "Education           80       78       62       85    87     83           82   \n",
      "Fitness             91       69       93       90    63     75           74   \n",
      "Food                82      108       97       93   117    102           88   \n",
      "Healthy Eating     108       95       98       90   109    103           99   \n",
      "Public Speaking     76       61       62       74    54     80           69   \n",
      "Science            110       98      103      102    90    105          117   \n",
      "Soccer              83       76       83       74    77     86          104   \n",
      "Studying            82       83       71       66    81     91           70   \n",
      "Technology         118      104      103       86   100    108           90   \n",
      "Tennis              68       77       89       87    80     83           80   \n",
      "Travel              96       94      106      110    88     98           86   \n",
      "Veganism            68       75       62       59    83     93           70   \n",
      "\n",
      "Reaction Type    Interested  Intrigued  Like  Love  Peeking  Scared  \\\n",
      "Category                                                              \n",
      "Animals                  99        112    93   106      119     122   \n",
      "Cooking                 121         74   103    89       95     109   \n",
      "Culture                  95         93    93    99       90     107   \n",
      "Dogs                     85         66    85    68       84      84   \n",
      "Education                83         88    84    96       89      73   \n",
      "Fitness                  75         73   101    80       80      89   \n",
      "Food                     96         87    91   116      103      94   \n",
      "Healthy Eating           93         99    99    94      100      94   \n",
      "Public Speaking          68         85    65    82       60      69   \n",
      "Science                 112        102   103   110      104      91   \n",
      "Soccer                   77         90    86    78       79      90   \n",
      "Studying                 81         75    72    73       87      90   \n",
      "Technology              115         78    78    91      106      79   \n",
      "Tennis                   78         75    72    71       69      75   \n",
      "Travel                   83         96   102    87       91      94   \n",
      "Veganism                 64         61    64    71       82      76   \n",
      "\n",
      "Reaction Type    Super Love  Want  Worried  \n",
      "Category                                    \n",
      "Animals                 111   107      113  \n",
      "Cooking                  99    85       93  \n",
      "Culture                  92   112       98  \n",
      "Dogs                     75    78       53  \n",
      "Education                84    75       82  \n",
      "Fitness                  92    65       74  \n",
      "Food                     87   103       92  \n",
      "Healthy Eating          102   103       86  \n",
      "Public Speaking          71    73       67  \n",
      "Science                  84   110      105  \n",
      "Soccer                   86    90       80  \n",
      "Studying                 78    62       89  \n",
      "Technology              101   103       97  \n",
      "Tennis                   71    61       82  \n",
      "Travel                   86   100       93  \n",
      "Veganism                 74    69       75  \n"
     ]
    }
   ],
   "source": [
    "# Group by Category and Reaction Type, then count occurrences\n",
    "reaction_distribution = reaction_data.groupby(['Category', 'Reaction Type']).size().reset_index(name= 'Count')\n",
    "\n",
    "# Pivot the table for better viz\n",
    "reaction_pivot = reaction_distribution.pivot(index='Category', columns='Reaction Type', values='Count').fillna(0)\n",
    "\n",
    "print(reaction_pivot)"
   ]
  },
  {
   "cell_type": "code",
   "execution_count": 111,
   "metadata": {},
   "outputs": [
    {
     "data": {
      "image/png": "[encoded data removed]",
      "text/plain": [
       "<Figure size 1440x648 with 1 Axes>"
      ]
     },
     "metadata": {
      "needs_background": "light"
     },
     "output_type": "display_data"
    }
   ],
   "source": [
    "# Create a stacked bar chart\n",
    "reaction_pivot.plot(kind='bar', stacked=True, figsize=(20,9))\n",
    "plt.title('Distribution of Reaction Types Across Categories')\n",
    "plt.xlabel('Category')\n",
    "plt.ylabel('Count of Reactions')\n",
    "plt.legend(title='Reaction Type', loc=\"upper right\")\n",
    "plt.xticks(rotation=45)\n",
    "plt.show()"
   ]
  },
  {
   "cell_type": "markdown",
   "metadata": {},
   "source": [
    "- In the Food category, the most common reaction type is Love, followed by Peeking.\n",
    "\n",
    "- The Travel category has a higher proportion of Dislikes compared to other categories.\n"
   ]
  },
  {
   "cell_type": "markdown",
   "metadata": {},
   "source": [
    "## Sentiment Analysis"
   ]
  },
  {
   "cell_type": "markdown",
   "metadata": {},
   "source": [
    "### Which content generates the most positive sentiment? The most negative sentiment?"
   ]
  },
  {
   "cell_type": "code",
   "execution_count": 112,
   "metadata": {},
   "outputs": [
    {
     "name": "stdout",
     "output_type": "stream",
     "text": [
      "Sentiment                             Negative  Neutral  Positive  \\\n",
      "Content ID                                                          \n",
      "004e820e-49c3-4ba2-9d02-62db0065410c       0.0      0.0       1.0   \n",
      "00d0cdf9-5919-4102-bf84-ebde253c3cd2      13.0      4.0      25.0   \n",
      "01396602-c759-4a17-90f0-8f9b3ca11b30      15.0      3.0      18.0   \n",
      "019b61f4-926c-438e-adaf-6119c5eab752       4.0      2.0       6.0   \n",
      "01ab84dd-6364-4236-abbb-3f237db77180       1.0      0.0       0.0   \n",
      "...                                        ...      ...       ...   \n",
      "fdca8d15-966b-4825-8133-1fafc5c1f9fc       8.0      2.0      15.0   \n",
      "fe06b730-b1f8-4f55-af1a-52487d8f1ec6       8.0      3.0      12.0   \n",
      "fea8d77c-fd0b-4678-868f-fbae567642f3       1.0      1.0       4.0   \n",
      "fea9077f-2fe7-43bd-aaef-dc2619988d94       1.0      3.0       2.0   \n",
      "ff883828-a610-492d-8635-8a777eaad25f      15.0      8.0      21.0   \n",
      "\n",
      "Sentiment                             Total Reactions  \n",
      "Content ID                                             \n",
      "004e820e-49c3-4ba2-9d02-62db0065410c              1.0  \n",
      "00d0cdf9-5919-4102-bf84-ebde253c3cd2             42.0  \n",
      "01396602-c759-4a17-90f0-8f9b3ca11b30             36.0  \n",
      "019b61f4-926c-438e-adaf-6119c5eab752             12.0  \n",
      "01ab84dd-6364-4236-abbb-3f237db77180              1.0  \n",
      "...                                               ...  \n",
      "fdca8d15-966b-4825-8133-1fafc5c1f9fc             25.0  \n",
      "fe06b730-b1f8-4f55-af1a-52487d8f1ec6             23.0  \n",
      "fea8d77c-fd0b-4678-868f-fbae567642f3              6.0  \n",
      "fea9077f-2fe7-43bd-aaef-dc2619988d94              6.0  \n",
      "ff883828-a610-492d-8635-8a777eaad25f             44.0  \n",
      "\n",
      "[962 rows x 4 columns]\n"
     ]
    }
   ],
   "source": [
    "# Group by Content ID and Sentiment, then count\n",
    "sentiment_counts = reaction_data.groupby(['Content ID', 'Sentiment']).size().reset_index(name='Count')\n",
    "\n",
    "# Pivot table to separate Positive and Negative counts\n",
    "sentiment_pivot = sentiment_counts.pivot(index='Content ID', columns='Sentiment', values='Count').fillna(0)\n",
    "\n",
    "# Add total reactions per content for context \n",
    "sentiment_pivot['Total Reactions'] = sentiment_pivot.sum(axis=1)\n",
    "\n",
    "print(sentiment_pivot)\n"
   ]
  },
  {
   "cell_type": "code",
   "execution_count": 113,
   "metadata": {},
   "outputs": [
    {
     "name": "stdout",
     "output_type": "stream",
     "text": [
      "Content with the most positive sentiment:\n",
      " Sentiment                             Negative  Neutral  Positive  \\\n",
      "Content ID                                                          \n",
      "cd568dd1-70cf-45d6-b495-10eebff8c920       8.0      4.0      32.0   \n",
      "\n",
      "Sentiment                             Total Reactions  \n",
      "Content ID                                             \n",
      "cd568dd1-70cf-45d6-b495-10eebff8c920             44.0  \n"
     ]
    }
   ],
   "source": [
    "# Identify the most positive content\n",
    "most_positive_content = sentiment_pivot.sort_values(by='Positive', ascending=False).head(1)\n",
    "print(\"Content with the most positive sentiment:\\n\", most_positive_content)\n"
   ]
  },
  {
   "cell_type": "code",
   "execution_count": 114,
   "metadata": {},
   "outputs": [
    {
     "name": "stdout",
     "output_type": "stream",
     "text": [
      "Content with the most negative sentiment:\n",
      " Sentiment                             Negative  Neutral  Positive  \\\n",
      "Content ID                                                          \n",
      "d90a34f1-60ed-4a79-b7bf-fd22efa12e4c      23.0      3.0      18.0   \n",
      "\n",
      "Sentiment                             Total Reactions  \n",
      "Content ID                                             \n",
      "d90a34f1-60ed-4a79-b7bf-fd22efa12e4c             44.0  \n"
     ]
    }
   ],
   "source": [
    "# Identify the most negative content\n",
    "most_negative_content = sentiment_pivot.sort_values(by='Negative', ascending=False).head(1)\n",
    "print(\"Content with the most negative sentiment:\\n\", most_negative_content)\n"
   ]
  },
  {
   "cell_type": "code",
   "execution_count": 115,
   "metadata": {},
   "outputs": [
    {
     "name": "stdout",
     "output_type": "stream",
     "text": [
      "Content with the highest positive rate:\n",
      " Sentiment                             Negative  Neutral  Positive  \\\n",
      "Content ID                                                          \n",
      "004e820e-49c3-4ba2-9d02-62db0065410c       0.0      0.0       1.0   \n",
      "\n",
      "Sentiment                             Total Reactions  Positive Rate  \\\n",
      "Content ID                                                             \n",
      "004e820e-49c3-4ba2-9d02-62db0065410c              1.0          100.0   \n",
      "\n",
      "Sentiment                             Negative Rate  \n",
      "Content ID                                           \n",
      "004e820e-49c3-4ba2-9d02-62db0065410c            0.0  \n",
      "Content with the highest negative rate:\n",
      " Sentiment                             Negative  Neutral  Positive  \\\n",
      "Content ID                                                          \n",
      "88e43f42-027e-4256-bab4-2d1c2b6f8f67       1.0      0.0       0.0   \n",
      "\n",
      "Sentiment                             Total Reactions  Positive Rate  \\\n",
      "Content ID                                                             \n",
      "88e43f42-027e-4256-bab4-2d1c2b6f8f67              1.0            0.0   \n",
      "\n",
      "Sentiment                             Negative Rate  \n",
      "Content ID                                           \n",
      "88e43f42-027e-4256-bab4-2d1c2b6f8f67          100.0  \n"
     ]
    }
   ],
   "source": [
    "# Calculate proportions\n",
    "sentiment_pivot['Positive Rate'] = (sentiment_pivot['Positive'] / sentiment_pivot['Total Reactions']) * 100\n",
    "sentiment_pivot['Negative Rate'] = (sentiment_pivot['Negative'] / sentiment_pivot['Total Reactions']) * 100\n",
    "\n",
    "# Find content with highest Positive and Negative Rates\n",
    "most_positive_rate_content = sentiment_pivot.sort_values(by='Positive Rate', ascending=False).head(1)\n",
    "most_negative_rate_content = sentiment_pivot.sort_values(by='Negative Rate', ascending=False).head(1)\n",
    "\n",
    "print(\"Content with the highest positive rate:\\n\", most_positive_rate_content)\n",
    "print(\"Content with the highest negative rate:\\n\", most_negative_rate_content)\n"
   ]
  },
  {
   "cell_type": "code",
   "execution_count": 116,
   "metadata": {},
   "outputs": [
    {
     "data": {
      "image/png": "[encoded data removed]",
      "text/plain": [
       "<Figure size 432x288 with 1 Axes>"
      ]
     },
     "metadata": {
      "needs_background": "light"
     },
     "output_type": "display_data"
    }
   ],
   "source": [
    "# Bar chart for a specific content\n",
    "top_content_id = most_positive_content.index[0]\n",
    "top_content_data = sentiment_pivot.loc[top_content_id]\n",
    "\n",
    "top_content_data[['Positive', 'Negative']].plot(kind='bar', color=['green', 'red'])\n",
    "plt.title(f'Sentiment Distribution for Content ID {top_content_id}')\n",
    "plt.xlabel('Sentiment')\n",
    "plt.ylabel('Count')\n",
    "plt.show()\n"
   ]
  },
  {
   "cell_type": "markdown",
   "metadata": {},
   "source": [
    "- Content ID cd568dd1-70cf-45d6-b495-10eebff8c920 generated the most positive reactions, with 32 positive sentiments out of 44 total reactions (72.73% positivity rate)\n",
    "\n",
    "- Content ID d90a34f1-60ed-4a79-b7bf-fd22efa12e4c generated the most negative reactions, with 23 negative sentiments out of 44 total reactions (52.27% negativity rate)."
   ]
  },
  {
   "cell_type": "markdown",
   "metadata": {},
   "source": [
    "### Are there any patterns between content type or category and sentiment trends?"
   ]
  },
  {
   "cell_type": "code",
   "execution_count": 126,
   "metadata": {},
   "outputs": [
    {
     "name": "stdout",
     "output_type": "stream",
     "text": [
      "Sentiment     Negative  Neutral  Positive  Total Reactions\n",
      "Content Type                                              \n",
      "Audio             1608      613      2964             5185\n",
      "Gif               1758      715      3105             5578\n",
      "Photo             1878      767      3398             6043\n",
      "Video             1793      728      3207             5728\n",
      "Sentiment        Negative  Neutral  Positive  Total Reactions\n",
      "Category                                                     \n",
      "Animals               566      210       962             1738\n",
      "Cooking               502      172       851             1525\n",
      "Culture               488      195       855             1538\n",
      "Dogs                  371      167       689             1227\n",
      "Education             389      171       751             1311\n",
      "Fitness               409      154       721             1284\n",
      "Food                  493      191       872             1556\n",
      "Healthy Eating        477      199       896             1572\n",
      "Public Speaking       326      129       661             1116\n",
      "Science               491      221       934             1646\n",
      "Soccer                404      183       752             1339\n",
      "Studying              397      157       697             1251\n",
      "Technology            465      196       896             1557\n",
      "Tennis                413      149       656             1218\n",
      "Travel                491      177       842             1510\n",
      "Veganism              355      152       639             1146\n"
     ]
    }
   ],
   "source": [
    "# Group by Content Type and Sentiment\n",
    "content_type_sentiment = reaction_data.groupby(['Content Type', 'Sentiment']).size().reset_index(name='Count')\n",
    "\n",
    "# Pivot table for better readability\n",
    "content_type_pivot = content_type_sentiment.pivot(index='Content Type', columns='Sentiment', values='Count').fillna(0)\n",
    "\n",
    "# Add totals for context\n",
    "content_type_pivot['Total Reactions'] = content_type_pivot.sum(axis=1)\n",
    "\n",
    "print(content_type_pivot)\n",
    "\n",
    "# Group by Category and Sentiment\n",
    "category_sentiment = reaction_data.groupby(['Category', 'Sentiment']).size().reset_index(name='Count')\n",
    "\n",
    "# Pivot table for better readability\n",
    "category_pivot = category_sentiment.pivot(index='Category', columns='Sentiment', values='Count').fillna(0)\n",
    "\n",
    "# Add totals for context\n",
    "category_pivot['Total Reactions'] = category_pivot.sum(axis=1)\n",
    "\n",
    "print(category_pivot)\n"
   ]
  },
  {
   "cell_type": "code",
   "execution_count": 127,
   "metadata": {},
   "outputs": [
    {
     "name": "stdout",
     "output_type": "stream",
     "text": [
      "Sentiment     Positive Rate  Negative Rate\n",
      "Content Type                              \n",
      "Audio             57.164899      31.012536\n",
      "Gif               55.665113      31.516673\n",
      "Photo             56.230349      31.077279\n",
      "Video             55.988128      31.302374\n",
      "Sentiment        Positive Rate  Negative Rate\n",
      "Category                                     \n",
      "Animals              55.350978      32.566168\n",
      "Cooking              55.803279      32.918033\n",
      "Culture              55.591678      31.729519\n",
      "Dogs                 56.153219      30.236349\n",
      "Education            57.284516      29.672006\n",
      "Fitness              56.152648      31.853583\n",
      "Food                 56.041131      31.683805\n",
      "Healthy Eating       56.997455      30.343511\n",
      "Public Speaking      59.229391      29.211470\n",
      "Science              56.743621      29.829891\n",
      "Soccer               56.161314      30.171770\n",
      "Studying             55.715428      31.734612\n",
      "Technology           57.546564      29.865125\n",
      "Tennis               53.858785      33.908046\n",
      "Travel               55.761589      32.516556\n",
      "Veganism             55.759162      30.977312\n"
     ]
    }
   ],
   "source": [
    "# Normalize Content Type Sentiments\n",
    "content_type_pivot['Positive Rate'] = (content_type_pivot['Positive'] / content_type_pivot['Total Reactions']) * 100\n",
    "content_type_pivot['Negative Rate'] = (content_type_pivot['Negative'] / content_type_pivot['Total Reactions']) * 100\n",
    "\n",
    "# Normalize Category Sentiments\n",
    "category_pivot['Positive Rate'] = (category_pivot['Positive'] / category_pivot['Total Reactions']) * 100\n",
    "category_pivot['Negative Rate'] = (category_pivot['Negative'] / category_pivot['Total Reactions']) * 100\n",
    "\n",
    "print(content_type_pivot[['Positive Rate', 'Negative Rate']])\n",
    "print(category_pivot[['Positive Rate', 'Negative Rate']])\n"
   ]
  },
  {
   "cell_type": "code",
   "execution_count": 129,
   "metadata": {},
   "outputs": [
    {
     "data": {
      "image/png": "[encoded data removed]",
      "text/plain": [
       "<Figure size 720x432 with 1 Axes>"
      ]
     },
     "metadata": {
      "needs_background": "light"
     },
     "output_type": "display_data"
    },
    {
     "data": {
      "image/png": "[encoded data removed]",
      "text/plain": [
       "<Figure size 432x288 with 2 Axes>"
      ]
     },
     "metadata": {
      "needs_background": "light"
     },
     "output_type": "display_data"
    }
   ],
   "source": [
    "# Bar Chart for Content Type Sentiment Trends\n",
    "content_type_pivot[['Positive', 'Negative']].plot(kind='bar', stacked=True, figsize=(10, 6), color=['green', 'red'])\n",
    "plt.title('Sentiment Distribution by Content Type')\n",
    "plt.xlabel('Content Type')\n",
    "plt.ylabel('Count')\n",
    "plt.legend(title='Sentiment')\n",
    "plt.xticks(rotation=45)\n",
    "plt.show()\n",
    "\n",
    "# Heatmap for Category Sentiment Rates\n",
    "sns.heatmap(category_pivot[['Positive Rate', 'Negative Rate']], annot=True, cmap='coolwarm', fmt=\".1f\")\n",
    "plt.title('Sentiment Rates by Category')\n",
    "plt.xlabel('Sentiment')\n",
    "plt.ylabel('Category')\n",
    "plt.show()\n"
   ]
  },
  {
   "cell_type": "markdown",
   "metadata": {},
   "source": [
    "- Content in the Public Speaking category shows a higher proportion of Positive sentiments (59.2%), while Travel content has a significant share of Negative sentiments (32.52%).\n",
    "\n",
    "- Audios consistently generate more positive sentiments compared to GIF, which tend to have mixed reactions."
   ]
  },
  {
   "cell_type": "markdown",
   "metadata": {},
   "source": [
    "## Performance Metrics"
   ]
  },
  {
   "cell_type": "markdown",
   "metadata": {},
   "source": [
    "### How do different scores vary across categories and content types?"
   ]
  },
  {
   "cell_type": "code",
   "execution_count": 133,
   "metadata": {},
   "outputs": [
    {
     "name": "stdout",
     "output_type": "stream",
     "text": [
      "Score statistics by Content Type:\n",
      "  Content Type       mean  median        std\n",
      "0        Audio  40.098554      45  26.136316\n",
      "1          Gif  39.247401      35  25.996871\n",
      "2        Photo  39.895747      45  26.086342\n",
      "3        Video  39.378317      35  25.924024\n"
     ]
    }
   ],
   "source": [
    "# Group by Content Type and calculate statistics\n",
    "content_type_scores = reaction_data.groupby('Content Type')['Score'].agg(['mean', 'median', 'std']).reset_index()\n",
    "print(\"Score statistics by Content Type:\")\n",
    "print(content_type_scores)\n"
   ]
  },
  {
   "cell_type": "code",
   "execution_count": 134,
   "metadata": {},
   "outputs": [
    {
     "name": "stdout",
     "output_type": "stream",
     "text": [
      "Score statistics by Category:\n",
      "           Category       mean  median        std\n",
      "0           Animals  39.484465      35  26.203074\n",
      "1           Cooking  38.802623      35  26.072174\n",
      "2           Culture  39.442783      35  26.079722\n",
      "3              Dogs  39.444173      35  25.797191\n",
      "4         Education  40.243326      45  25.648168\n",
      "5           Fitness  39.591121      45  26.158435\n",
      "6              Food  39.587404      35  26.173194\n",
      "7    Healthy Eating  40.164122      45  26.157770\n",
      "8   Public Speaking  40.995520      45  25.756204\n",
      "9           Science  39.735723      35  25.775156\n",
      "10           Soccer  39.743092      45  25.901152\n",
      "11         Studying  39.521982      35  25.882166\n",
      "12       Technology  40.484907      45  26.352720\n",
      "13           Tennis  37.918719      35  26.171311\n",
      "14           Travel  39.309934      45  26.211493\n",
      "15         Veganism  40.053229      45  26.034974\n"
     ]
    }
   ],
   "source": [
    "# Group by Category and calculate statistics\n",
    "category_scores = reaction_data.groupby('Category')['Score'].agg(['mean', 'median', 'std']).reset_index()\n",
    "print(\"Score statistics by Category:\")\n",
    "print(category_scores)"
   ]
  },
  {
   "cell_type": "code",
   "execution_count": 136,
   "metadata": {},
   "outputs": [
    {
     "data": {
      "image/png": "[encoded data removed]",
      "text/plain": [
       "<Figure size 720x432 with 1 Axes>"
      ]
     },
     "metadata": {
      "needs_background": "light"
     },
     "output_type": "display_data"
    },
    {
     "data": {
      "image/png": "[encoded data removed]",
      "text/plain": [
       "<Figure size 720x432 with 1 Axes>"
      ]
     },
     "metadata": {
      "needs_background": "light"
     },
     "output_type": "display_data"
    }
   ],
   "source": [
    "# Boxplot for Content Type vs Score\n",
    "plt.figure(figsize=(10, 6))\n",
    "sns.boxplot(x='Content Type', y='Score', data=reaction_data, palette='Set2')\n",
    "plt.title('Score Distribution by Content Type')\n",
    "plt.xlabel('Content Type')\n",
    "plt.ylabel('Score')\n",
    "plt.show()\n",
    "\n",
    "# Boxplot for Category vs Score\n",
    "plt.figure(figsize=(10, 6))\n",
    "sns.boxplot(x='Category', y='Score', data=reaction_data, palette='Set3')\n",
    "plt.title('Score Distribution by Category')\n",
    "plt.xlabel('Category')\n",
    "plt.ylabel('Score')\n",
    "plt.xticks(rotation=45)\n",
    "plt.show()\n"
   ]
  },
  {
   "cell_type": "code",
   "execution_count": 143,
   "metadata": {},
   "outputs": [
    {
     "name": "stdout",
     "output_type": "stream",
     "text": [
      "ANOVA results for Content Type - F-statistic: 1.3450793651086559, p-value: 0.2577130700035412\n",
      "ANOVA results for Category - F-statistic: 0.9156091000532722, p-value: 0.545798045856223\n"
     ]
    }
   ],
   "source": [
    "from scipy.stats import f_oneway\n",
    "\n",
    "# One-way ANOVA for Content Type\n",
    "content_type_groups = [group['Score'].values for _, group in reaction_data.groupby('Content Type')]\n",
    "f_stat, p_value = f_oneway(*content_type_groups)\n",
    "print(f\"ANOVA results for Content Type - F-statistic: {f_stat}, p-value: {p_value}\")\n",
    "\n",
    "# One-way ANOVA for Category\n",
    "category_groups = [group['Score'].values for _, group in reaction_data.groupby('Category')]\n",
    "f_stat, p_value = f_oneway(*category_groups)\n",
    "print(f\"ANOVA results for Category - F-statistic: {f_stat}, p-value: {p_value}\")\n"
   ]
  },
  {
   "cell_type": "markdown",
   "metadata": {},
   "source": [
    "A p-value greater than 0.05 suggests that the differences in mean Score values across the groups are not statistically significant.\n",
    "\n",
    "The data does not provide enough evidence to conclude that the mean Score differs significantly across Content Type groups or the Category groups.\n",
    "\n",
    "The observed differences in group means could be due to random variation rather than meaningful patterns."
   ]
  },
  {
   "cell_type": "markdown",
   "metadata": {},
   "source": [
    "- Audio have the highest average scores (40.09), indicating they are better received compared to Gif (39.24).\n",
    "\n",
    "- The variability in scores is highest for Audio, suggesting mixed reactions.\n",
    "\n",
    "- Public Speaking content shows the highest mean score (40.99), while Tennis has the lowest (37.91).\n",
    "\n",
    "The Technology category has a wide range of scores, indicating diverse reactions from users.\""
   ]
  },
  {
   "cell_type": "markdown",
   "metadata": {},
   "source": [
    "## Time-based Trends"
   ]
  },
  {
   "cell_type": "markdown",
   "metadata": {},
   "source": [
    "### Are there specific times of day or days of the week when user engagement is highest?"
   ]
  },
  {
   "cell_type": "code",
   "execution_count": null,
   "metadata": {},
   "outputs": [
    {
     "name": "stdout",
     "output_type": "stream",
     "text": [
      "             Datetime  Hour Day_of_Week\n",
      "0 2020-11-07 09:43:50     9    Saturday\n",
      "1 2021-06-17 12:22:51    12    Thursday\n",
      "2 2021-04-18 05:13:58     5      Sunday\n",
      "3 2021-01-06 19:13:01    19   Wednesday\n",
      "4 2020-08-23 12:25:58    12      Sunday\n"
     ]
    }
   ],
   "source": [
    "# Extract hour and day of the week from Datetime\n",
    "reaction_data['Hour'] = reaction_data['Datetime'].dt.hour\n",
    "reaction_data['Day_of_Week'] = reaction_data['Datetime'].dt.day_name()\n",
    "\n",
    "# Preview the data\n",
    "print(reaction_data[['Datetime', 'Hour', 'Day_of_Week']].head())"
   ]
  },
  {
   "cell_type": "code",
   "execution_count": 149,
   "metadata": {},
   "outputs": [],
   "source": [
    "# Group by hour and day of the week\n",
    "engagement_by_hour = reaction_data.groupby('Hour').size().reset_index(name='Total Reactions')\n",
    "engagement_by_day = reaction_data.groupby('Day_of_Week').size().reset_index(name='Total Reactions')\n",
    "\n",
    "# Order days of the week correctly\n",
    "days_order = ['Monday', 'Tuesday', 'Wednesday', 'Thursday', 'Friday', 'Saturday', 'Sunday']\n",
    "engagement_by_day['Day_of_Week'] = pd.Categorical(engagement_by_day['Day_of_Week'], categories=days_order, ordered=True)\n",
    "engagement_by_day = engagement_by_day.sort_values('Day_of_Week')"
   ]
  },
  {
   "cell_type": "code",
   "execution_count": 150,
   "metadata": {},
   "outputs": [
    {
     "data": {
      "image/png": "[encoded data removed]",
      "text/plain": [
       "<Figure size 720x432 with 1 Axes>"
      ]
     },
     "metadata": {
      "needs_background": "light"
     },
     "output_type": "display_data"
    },
    {
     "data": {
      "image/png": "[encoded data removed]",
      "text/plain": [
       "<Figure size 720x432 with 1 Axes>"
      ]
     },
     "metadata": {
      "needs_background": "light"
     },
     "output_type": "display_data"
    }
   ],
   "source": [
    "# Plot engagement by hour\n",
    "plt.figure(figsize=(10, 6))\n",
    "sns.barplot(x='Hour', y='Total Reactions', data=engagement_by_hour, palette='viridis')\n",
    "plt.title('User Engagement by Hour')\n",
    "plt.xlabel('Hour of Day')\n",
    "plt.ylabel('Total Reactions')\n",
    "plt.show()\n",
    "\n",
    "# Plot engagement by day of the week\n",
    "plt.figure(figsize=(10, 6))\n",
    "sns.barplot(x='Day_of_Week', y='Total Reactions', data=engagement_by_day, palette='viridis')\n",
    "plt.title('User Engagement by Day of the Week')\n",
    "plt.xlabel('Day of the Week')\n",
    "plt.ylabel('Total Reactions')\n",
    "plt.show()"
   ]
  },
  {
   "cell_type": "code",
   "execution_count": 151,
   "metadata": {},
   "outputs": [
    {
     "name": "stdout",
     "output_type": "stream",
     "text": [
      "Chi-Square Test: p-value = 1.0\n"
     ]
    }
   ],
   "source": [
    "from scipy.stats import chi2_contingency\n",
    "\n",
    "# Chi-square test\n",
    "chi2, p, _, _ = chi2_contingency([engagement_by_day['Total Reactions']])\n",
    "print(f\"Chi-Square Test: p-value = {p}\")"
   ]
  },
  {
   "cell_type": "markdown",
   "metadata": {},
   "source": [
    "### Does the sentiment of reactions vary based on time (e.g., are users more negative in the evening)?"
   ]
  },
  {
   "cell_type": "markdown",
   "metadata": {},
   "source": [
    "## Optimization"
   ]
  },
  {
   "cell_type": "markdown",
   "metadata": {},
   "source": [
    "### How can low-performing content types or categories be improved to align better with user preferences?"
   ]
  },
  {
   "cell_type": "markdown",
   "metadata": {},
   "source": [
    "### Is there an optimal combination of content type, category, and time that maximizes positive reactions?"
   ]
  },
  {
   "cell_type": "markdown",
   "metadata": {},
   "source": [
    "## User Behavior Insights"
   ]
  },
  {
   "cell_type": "markdown",
   "metadata": {},
   "source": [
    "### Are there any notable patterns or correlations between reaction type and sentiment?"
   ]
  },
  {
   "cell_type": "markdown",
   "metadata": {},
   "source": [
    "### How do high and low-scoring reactions differ in terms of their associated content and timing?"
   ]
  }
 ],
 "metadata": {
  "kernelspec": {
   "display_name": "base",
   "language": "python",
   "name": "python3"
  },
  "language_info": {
   "codemirror_mode": {
    "name": "ipython",
    "version": 3
   },
   "file_extension": ".py",
   "mimetype": "text/x-python",
   "name": "python",
   "nbconvert_exporter": "python",
   "pygments_lexer": "ipython3",
   "version": "3.8.3"
  }
 },
 "nbformat": 4,
 "nbformat_minor": 2
}
